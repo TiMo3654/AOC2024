{
 "cells": [
  {
   "cell_type": "code",
   "execution_count": 21,
   "metadata": {},
   "outputs": [],
   "source": [
    "import re"
   ]
  },
  {
   "cell_type": "code",
   "execution_count": 22,
   "metadata": {},
   "outputs": [],
   "source": [
    "#Return a list containing every occurrence of \"ai\":\n",
    "\n",
    "#txt =\"xmul(2,4)%&mul[3,7]!@^do_not_mul(5,5)+mul(32,64]then(mul(11,8)mul(8,5))\"\n",
    "\n",
    "def calc_sum(mystr : str) -> int:\n",
    "\n",
    "    x = re.findall(\"mul\\([0-9]{1,3},[0-9]{1,3}\\)\", mystr)\n",
    "\n",
    "    #print(x)\n",
    "\n",
    "    mysum = 0\n",
    "\n",
    "    for s in x:\n",
    "\n",
    "        a,b = re.findall(\"[0-9]{1,3}\",s)\n",
    "        a = int(a)\n",
    "        b = int(b)\n",
    "        mysum = mysum + (a*b)\n",
    "\n",
    "    #print(mysum)\n",
    "\n",
    "    return mysum"
   ]
  },
  {
   "cell_type": "code",
   "execution_count": 23,
   "metadata": {},
   "outputs": [
    {
     "data": {
      "text/plain": [
       "178886550"
      ]
     },
     "execution_count": 23,
     "metadata": {},
     "output_type": "execute_result"
    }
   ],
   "source": [
    "file_path = 'aoc3.txt'\n",
    "\n",
    "overall = 0\n",
    "\n",
    "with open(file_path, 'r') as file:\n",
    "    for line in file:\n",
    "        \n",
    "        overall = overall + calc_sum(line)\n",
    "\n",
    "\n",
    "overall"
   ]
  },
  {
   "cell_type": "markdown",
   "metadata": {},
   "source": [
    "## Part 2"
   ]
  },
  {
   "cell_type": "code",
   "execution_count": 24,
   "metadata": {},
   "outputs": [],
   "source": [
    "mystring = \"\"\n",
    "with open(file_path, 'r') as file:\n",
    "    for line in file:\n",
    "        \n",
    "        mystring = mystring + line"
   ]
  },
  {
   "cell_type": "code",
   "execution_count": 25,
   "metadata": {},
   "outputs": [],
   "source": [
    "pattern = \"(do\\(\\)|don\\'t\\(\\))\"\n",
    "\n",
    "input_split = re.split(pattern, mystring)\n",
    "\n",
    "#input_split"
   ]
  },
  {
   "cell_type": "code",
   "execution_count": 26,
   "metadata": {},
   "outputs": [],
   "source": [
    "valid_string = input_split[0]\n",
    "\n",
    "for i, line in enumerate(input_split):\n",
    "\n",
    "    if line == \"do()\":\n",
    "\n",
    "        valid_string = valid_string + input_split[i+1]"
   ]
  },
  {
   "cell_type": "code",
   "execution_count": 27,
   "metadata": {},
   "outputs": [
    {
     "data": {
      "text/plain": [
       "87163705"
      ]
     },
     "execution_count": 27,
     "metadata": {},
     "output_type": "execute_result"
    }
   ],
   "source": [
    "calc_sum(valid_string)"
   ]
  }
 ],
 "metadata": {
  "kernelspec": {
   "display_name": "aoc",
   "language": "python",
   "name": "python3"
  },
  "language_info": {
   "codemirror_mode": {
    "name": "ipython",
    "version": 3
   },
   "file_extension": ".py",
   "mimetype": "text/x-python",
   "name": "python",
   "nbconvert_exporter": "python",
   "pygments_lexer": "ipython3",
   "version": "3.11.10"
  }
 },
 "nbformat": 4,
 "nbformat_minor": 2
}
