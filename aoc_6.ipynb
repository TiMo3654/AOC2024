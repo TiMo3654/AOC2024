{
 "cells": [
  {
   "cell_type": "code",
   "execution_count": 38,
   "metadata": {},
   "outputs": [],
   "source": [
    "file_path_1 = 'aoc6.txt'\n",
    "\n",
    "mymap = []\n",
    "\n",
    "with open(file_path_1, 'r') as file:\n",
    "    for line in file:\n",
    "\n",
    "        mymap.append(list(line.replace('\\n', '')))\n",
    "\n",
    "#mymap"
   ]
  },
  {
   "cell_type": "code",
   "execution_count": 39,
   "metadata": {},
   "outputs": [],
   "source": [
    "current_direction   = 'up' # 'down', 'left', 'right'"
   ]
  },
  {
   "cell_type": "code",
   "execution_count": 40,
   "metadata": {},
   "outputs": [],
   "source": [
    "def step(current_position : tuple, direction : str, mymap : list) -> tuple:\n",
    "\n",
    "    #current_position = (row, column)\n",
    "\n",
    "    width   = len(mymap[0])\n",
    "\n",
    "    height  = len(mymap)\n",
    "\n",
    "    if direction == \"up\":\n",
    "        \n",
    "        next_position   = (current_position[0] - 1, current_position[1])\n",
    "    \n",
    "    elif direction == \"down\":\n",
    "\n",
    "        next_position   = (current_position[0] + 1, current_position[1])\n",
    "\n",
    "    elif direction == \"left\":\n",
    "\n",
    "        next_position   = (current_position[0], current_position[1] - 1)\n",
    "    \n",
    "    else: #right\n",
    "\n",
    "        next_position   = (current_position[0], current_position[1] + 1)\n",
    "\n",
    "\n",
    "    # Check if new position is valid\n",
    "\n",
    "    if next_position[0] < height and next_position[1] < width:    # check for out of boundary\n",
    "\n",
    "        if mymap[next_position[0]][next_position[1]] != '#':\n",
    "\n",
    "            new_position    = next_position\n",
    "            new_direction   = direction\n",
    "        \n",
    "        else:\n",
    "\n",
    "            new_position    = current_position\n",
    "            \n",
    "            if direction == \"up\":\n",
    "                \n",
    "                new_direction   = \"right\"\n",
    "            \n",
    "            elif direction == \"down\":\n",
    "\n",
    "                new_direction   = \"left\"\n",
    "\n",
    "            elif direction == \"left\":\n",
    "\n",
    "                new_direction   = \"up\"\n",
    "            \n",
    "            else: #right\n",
    "\n",
    "                new_direction   = \"down\"\n",
    "        \n",
    "    else:\n",
    "\n",
    "        new_position    = ()\n",
    "        new_direction   = ''\n",
    "\n",
    "    return new_position, new_direction"
   ]
  },
  {
   "cell_type": "code",
   "execution_count": 41,
   "metadata": {},
   "outputs": [
    {
     "data": {
      "text/plain": [
       "(47, 42)"
      ]
     },
     "execution_count": 41,
     "metadata": {},
     "output_type": "execute_result"
    }
   ],
   "source": [
    "for a, row in enumerate(mymap):\n",
    "\n",
    "    col = row.index('^') if '^' in row else ''\n",
    "\n",
    "    if col:\n",
    "        initial_position = (a, col)\n",
    "\n",
    "        break\n",
    "\n",
    "initial_position"
   ]
  },
  {
   "cell_type": "code",
   "execution_count": 42,
   "metadata": {},
   "outputs": [
    {
     "name": "stdout",
     "output_type": "stream",
     "text": [
      "4647\n"
     ]
    }
   ],
   "source": [
    "all_positions = set()\n",
    "\n",
    "all_positions.add(initial_position)\n",
    "\n",
    "# Initials\n",
    "\n",
    "initial_direction   = 'up'\n",
    "\n",
    "new_position, new_direction = step(initial_position, initial_direction, mymap)\n",
    "\n",
    "\n",
    "\n",
    "while new_position:\n",
    "\n",
    "    new_position, new_direction = step(new_position, new_direction, mymap)\n",
    "\n",
    "    all_positions.add(new_position)\n",
    "\n",
    "    #print(new_position, new_direction)\n",
    "\n",
    "print(len(all_positions))"
   ]
  }
 ],
 "metadata": {
  "kernelspec": {
   "display_name": "aoc",
   "language": "python",
   "name": "python3"
  },
  "language_info": {
   "codemirror_mode": {
    "name": "ipython",
    "version": 3
   },
   "file_extension": ".py",
   "mimetype": "text/x-python",
   "name": "python",
   "nbconvert_exporter": "python",
   "pygments_lexer": "ipython3",
   "version": "3.11.10"
  }
 },
 "nbformat": 4,
 "nbformat_minor": 2
}
