{
 "cells": [
  {
   "cell_type": "code",
   "execution_count": 16,
   "metadata": {},
   "outputs": [],
   "source": [
    "# Function to read a two-column text file and return two lists\n",
    "def read_two_column_file(file_path):\n",
    "    column1 = []\n",
    "    column2 = []\n",
    "    \n",
    "    with open(file_path, 'r') as file:\n",
    "        for line in file:\n",
    "            col1, col2 = line.split()\n",
    "            column1.append(int(col1))\n",
    "            column2.append(int(col2))\n",
    "    \n",
    "    return column1, column2\n",
    "\n",
    "file_path = 'aoc1.txt'\n",
    "column1, column2 = read_two_column_file(file_path)\n",
    "\n",
    "# print(\"Column 1:\", column1)\n",
    "# print(\"Column 2:\", column2)\n"
   ]
  },
  {
   "cell_type": "code",
   "execution_count": 22,
   "metadata": {},
   "outputs": [
    {
     "data": {
      "text/plain": [
       "1341714"
      ]
     },
     "execution_count": 22,
     "metadata": {},
     "output_type": "execute_result"
    }
   ],
   "source": [
    "column1.sort()\n",
    "column2.sort()\n",
    "\n",
    "diff            = sum([abs(a - b) for a, b in zip(column1, column2)])\n",
    "\n",
    "diff"
   ]
  },
  {
   "cell_type": "code",
   "execution_count": 23,
   "metadata": {},
   "outputs": [],
   "source": [
    "counts = []\n",
    "\n",
    "for x in column1:\n",
    "\n",
    "    count_in_col_2 = len([y for y in column2 if y == x])\n",
    "\n",
    "    counts.append(count_in_col_2)"
   ]
  },
  {
   "cell_type": "code",
   "execution_count": 25,
   "metadata": {},
   "outputs": [
    {
     "data": {
      "text/plain": [
       "27384707"
      ]
     },
     "execution_count": 25,
     "metadata": {},
     "output_type": "execute_result"
    }
   ],
   "source": [
    "sim            = sum([a*b for a, b in zip(column1, counts)])\n",
    "\n",
    "sim"
   ]
  }
 ],
 "metadata": {
  "kernelspec": {
   "display_name": "aoc",
   "language": "python",
   "name": "python3"
  },
  "language_info": {
   "codemirror_mode": {
    "name": "ipython",
    "version": 3
   },
   "file_extension": ".py",
   "mimetype": "text/x-python",
   "name": "python",
   "nbconvert_exporter": "python",
   "pygments_lexer": "ipython3",
   "version": "3.11.10"
  }
 },
 "nbformat": 4,
 "nbformat_minor": 2
}
