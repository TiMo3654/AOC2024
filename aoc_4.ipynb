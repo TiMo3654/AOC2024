{
 "cells": [
  {
   "cell_type": "code",
   "execution_count": 245,
   "metadata": {},
   "outputs": [],
   "source": [
    "import numpy as np\n",
    "import re\n",
    "\n",
    "#a = list('MSMMMMMXAMAMMSMMAMMSXMAMMMSMSAXMMMAMXXMAMXMAMSAMAXXXMAXSAXMAXSASXSMASMMSSMAAXAXMSXSMSAMXSSMXSAAXXMAMAXAXASAMXMXAXMXXXMXSSMSMXMMAAXAXXMASXSSS')\n",
    "\n",
    "file_path = 'aoc4.txt'\n",
    "\n",
    "block = []\n",
    "\n",
    "with open(file_path, 'r') as file:\n",
    "    for line in file:\n",
    "\n",
    "        block.append(list(line))"
   ]
  },
  {
   "cell_type": "code",
   "execution_count": 246,
   "metadata": {},
   "outputs": [],
   "source": [
    "## horizontals\n",
    "\n",
    "horizontals = []\n",
    "\n",
    "for e in block[:-1]:\n",
    "\n",
    "    horizontals.append(e[:-1])\n",
    "\n",
    "    #print(e)\n",
    "\n",
    "horizontals.append(block[-1])   # horizontal lines"
   ]
  },
  {
   "cell_type": "code",
   "execution_count": 247,
   "metadata": {},
   "outputs": [],
   "source": [
    "## verticals\n",
    "\n",
    "verticals = list(zip(*horizontals))\n",
    "\n",
    "verticals = [list(l) for l in verticals]"
   ]
  },
  {
   "cell_type": "code",
   "execution_count": 248,
   "metadata": {},
   "outputs": [],
   "source": [
    "## diagonals\n",
    "\n",
    "block_arr = np.array(horizontals)\n",
    "\n",
    "def get_all_diagonals(matrix):\n",
    "    diagonals_ll = []\n",
    "    diagonals_ul = []\n",
    "    rows, cols = matrix.shape\n",
    "\n",
    "    # Get diagonals from the lower-left to the upper-right\n",
    "    for offset in range(-rows + 1, cols):\n",
    "        diagonals_ll.append(matrix.diagonal(offset).tolist())\n",
    "\n",
    "    # Get diagonals from the upper-left to the lower-right\n",
    "    for offset in range(-rows + 1, cols):\n",
    "        diagonals_ul.append(np.fliplr(matrix).diagonal(offset).tolist())\n",
    "\n",
    "\n",
    "    return diagonals_ll, diagonals_ul\n",
    "\n",
    "diag_ll, diag_ul = get_all_diagonals(block_arr)\n",
    "\n",
    "# print(diag_ll)\n",
    "# print(diag_ul)"
   ]
  },
  {
   "cell_type": "code",
   "execution_count": 249,
   "metadata": {},
   "outputs": [],
   "source": [
    "def list_to_string(char_list):\n",
    "    return ''.join(char_list)"
   ]
  },
  {
   "cell_type": "code",
   "execution_count": 250,
   "metadata": {},
   "outputs": [],
   "source": [
    "all_strings = horizontals + verticals + diag_ll + diag_ul"
   ]
  },
  {
   "cell_type": "code",
   "execution_count": 251,
   "metadata": {},
   "outputs": [
    {
     "data": {
      "text/plain": [
       "2447"
      ]
     },
     "execution_count": 251,
     "metadata": {},
     "output_type": "execute_result"
    }
   ],
   "source": [
    "xmas_sum = 0\n",
    "\n",
    "for s in all_strings:\n",
    "\n",
    "    full_str    = list_to_string(s)\n",
    "\n",
    "    num         = len(re.findall(\"XMAS\", full_str))\n",
    "    num2        = len(re.findall(\"SAMX\", full_str))\n",
    "\n",
    "    xmas_sum    = xmas_sum + num + num2\n",
    "\n",
    "xmas_sum"
   ]
  }
 ],
 "metadata": {
  "kernelspec": {
   "display_name": "aoc",
   "language": "python",
   "name": "python3"
  },
  "language_info": {
   "codemirror_mode": {
    "name": "ipython",
    "version": 3
   },
   "file_extension": ".py",
   "mimetype": "text/x-python",
   "name": "python",
   "nbconvert_exporter": "python",
   "pygments_lexer": "ipython3",
   "version": "3.11.10"
  }
 },
 "nbformat": 4,
 "nbformat_minor": 2
}
